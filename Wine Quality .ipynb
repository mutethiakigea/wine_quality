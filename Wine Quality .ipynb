{
 "cells": [
  {
   "cell_type": "markdown",
   "id": "a7b3a0b6",
   "metadata": {},
   "source": [
    "# Wine Quality"
   ]
  },
  {
   "cell_type": "markdown",
   "id": "8fda2da9",
   "metadata": {},
   "source": [
    "## Introduction"
   ]
  },
  {
   "cell_type": "markdown",
   "id": "e6c80549",
   "metadata": {},
   "source": [
    "A specific wine's overall excellence, qualities, and attractiveness are referred to as wine quality. It is a judgment based on various elements that affect the sensory experience, including balance, complexity, color, taste, and overall harmony. This is a machine learning model to forecast the quality of the wine based on input characteristics is the usual step in creating a wine quality model using Python."
   ]
  },
  {
   "cell_type": "markdown",
   "id": "0abb9d5c",
   "metadata": {},
   "source": [
    "## Data Preparation"
   ]
  },
  {
   "cell_type": "code",
   "execution_count": 1,
   "id": "a0607017",
   "metadata": {},
   "outputs": [],
   "source": [
    "# importing required packages\n",
    "import pandas as pd\n",
    "import seaborn as sns\n",
    "import matplotlib.pyplot as plt\n",
    "from sklearn.ensemble import RandomForestClassifier\n",
    "from sklearn.svm import SVC #support vector classifier\n",
    "from sklearn import svm\n",
    "from sklearn.neural_network import MLPClassifier\n",
    "# from sklearn.linear_model import SGDClassifier\n",
    "from sklearn.metrics import confusion_matrix, classification_report\n",
    "from sklearn.preprocessing import StandardScaler, LabelEncoder\n",
    "from sklearn.model_selection import train_test_split\n",
    "%matplotlib inline "
   ]
  },
  {
   "cell_type": "code",
   "execution_count": 2,
   "id": "2fac2fb2",
   "metadata": {},
   "outputs": [],
   "source": [
    "#loading dataset\n",
    "wine = pd.read_csv('winequality-red.csv')"
   ]
  },
  {
   "cell_type": "code",
   "execution_count": 3,
   "id": "4b26484c",
   "metadata": {},
   "outputs": [
    {
     "data": {
      "text/html": [
       "<div>\n",
       "<style scoped>\n",
       "    .dataframe tbody tr th:only-of-type {\n",
       "        vertical-align: middle;\n",
       "    }\n",
       "\n",
       "    .dataframe tbody tr th {\n",
       "        vertical-align: top;\n",
       "    }\n",
       "\n",
       "    .dataframe thead th {\n",
       "        text-align: right;\n",
       "    }\n",
       "</style>\n",
       "<table border=\"1\" class=\"dataframe\">\n",
       "  <thead>\n",
       "    <tr style=\"text-align: right;\">\n",
       "      <th></th>\n",
       "      <th>fixed acidity</th>\n",
       "      <th>volatile acidity</th>\n",
       "      <th>citric acid</th>\n",
       "      <th>residual sugar</th>\n",
       "      <th>chlorides</th>\n",
       "      <th>free sulfur dioxide</th>\n",
       "      <th>total sulfur dioxide</th>\n",
       "      <th>density</th>\n",
       "      <th>pH</th>\n",
       "      <th>sulphates</th>\n",
       "      <th>alcohol</th>\n",
       "      <th>quality</th>\n",
       "    </tr>\n",
       "  </thead>\n",
       "  <tbody>\n",
       "    <tr>\n",
       "      <th>0</th>\n",
       "      <td>7.4</td>\n",
       "      <td>0.70</td>\n",
       "      <td>0.00</td>\n",
       "      <td>1.9</td>\n",
       "      <td>0.076</td>\n",
       "      <td>11.0</td>\n",
       "      <td>34.0</td>\n",
       "      <td>0.9978</td>\n",
       "      <td>3.51</td>\n",
       "      <td>0.56</td>\n",
       "      <td>9.4</td>\n",
       "      <td>5</td>\n",
       "    </tr>\n",
       "    <tr>\n",
       "      <th>1</th>\n",
       "      <td>7.8</td>\n",
       "      <td>0.88</td>\n",
       "      <td>0.00</td>\n",
       "      <td>2.6</td>\n",
       "      <td>0.098</td>\n",
       "      <td>25.0</td>\n",
       "      <td>67.0</td>\n",
       "      <td>0.9968</td>\n",
       "      <td>3.20</td>\n",
       "      <td>0.68</td>\n",
       "      <td>9.8</td>\n",
       "      <td>5</td>\n",
       "    </tr>\n",
       "    <tr>\n",
       "      <th>2</th>\n",
       "      <td>7.8</td>\n",
       "      <td>0.76</td>\n",
       "      <td>0.04</td>\n",
       "      <td>2.3</td>\n",
       "      <td>0.092</td>\n",
       "      <td>15.0</td>\n",
       "      <td>54.0</td>\n",
       "      <td>0.9970</td>\n",
       "      <td>3.26</td>\n",
       "      <td>0.65</td>\n",
       "      <td>9.8</td>\n",
       "      <td>5</td>\n",
       "    </tr>\n",
       "    <tr>\n",
       "      <th>3</th>\n",
       "      <td>11.2</td>\n",
       "      <td>0.28</td>\n",
       "      <td>0.56</td>\n",
       "      <td>1.9</td>\n",
       "      <td>0.075</td>\n",
       "      <td>17.0</td>\n",
       "      <td>60.0</td>\n",
       "      <td>0.9980</td>\n",
       "      <td>3.16</td>\n",
       "      <td>0.58</td>\n",
       "      <td>9.8</td>\n",
       "      <td>6</td>\n",
       "    </tr>\n",
       "    <tr>\n",
       "      <th>4</th>\n",
       "      <td>7.4</td>\n",
       "      <td>0.70</td>\n",
       "      <td>0.00</td>\n",
       "      <td>1.9</td>\n",
       "      <td>0.076</td>\n",
       "      <td>11.0</td>\n",
       "      <td>34.0</td>\n",
       "      <td>0.9978</td>\n",
       "      <td>3.51</td>\n",
       "      <td>0.56</td>\n",
       "      <td>9.4</td>\n",
       "      <td>5</td>\n",
       "    </tr>\n",
       "  </tbody>\n",
       "</table>\n",
       "</div>"
      ],
      "text/plain": [
       "   fixed acidity  volatile acidity  citric acid  residual sugar  chlorides  \\\n",
       "0            7.4              0.70         0.00             1.9      0.076   \n",
       "1            7.8              0.88         0.00             2.6      0.098   \n",
       "2            7.8              0.76         0.04             2.3      0.092   \n",
       "3           11.2              0.28         0.56             1.9      0.075   \n",
       "4            7.4              0.70         0.00             1.9      0.076   \n",
       "\n",
       "   free sulfur dioxide  total sulfur dioxide  density    pH  sulphates  \\\n",
       "0                 11.0                  34.0   0.9978  3.51       0.56   \n",
       "1                 25.0                  67.0   0.9968  3.20       0.68   \n",
       "2                 15.0                  54.0   0.9970  3.26       0.65   \n",
       "3                 17.0                  60.0   0.9980  3.16       0.58   \n",
       "4                 11.0                  34.0   0.9978  3.51       0.56   \n",
       "\n",
       "   alcohol  quality  \n",
       "0      9.4        5  \n",
       "1      9.8        5  \n",
       "2      9.8        5  \n",
       "3      9.8        6  \n",
       "4      9.4        5  "
      ]
     },
     "execution_count": 3,
     "metadata": {},
     "output_type": "execute_result"
    }
   ],
   "source": [
    "wine.head()"
   ]
  },
  {
   "cell_type": "markdown",
   "id": "f42239a0",
   "metadata": {},
   "source": [
    "## Data Processing"
   ]
  },
  {
   "cell_type": "code",
   "execution_count": 4,
   "id": "1deff752",
   "metadata": {},
   "outputs": [
    {
     "name": "stdout",
     "output_type": "stream",
     "text": [
      "<class 'pandas.core.frame.DataFrame'>\n",
      "RangeIndex: 1596 entries, 0 to 1595\n",
      "Data columns (total 12 columns):\n",
      " #   Column                Non-Null Count  Dtype  \n",
      "---  ------                --------------  -----  \n",
      " 0   fixed acidity         1596 non-null   float64\n",
      " 1   volatile acidity      1596 non-null   float64\n",
      " 2   citric acid           1596 non-null   float64\n",
      " 3   residual sugar        1596 non-null   float64\n",
      " 4   chlorides             1596 non-null   float64\n",
      " 5   free sulfur dioxide   1596 non-null   float64\n",
      " 6   total sulfur dioxide  1596 non-null   float64\n",
      " 7   density               1596 non-null   float64\n",
      " 8   pH                    1596 non-null   float64\n",
      " 9   sulphates             1596 non-null   float64\n",
      " 10  alcohol               1596 non-null   float64\n",
      " 11  quality               1596 non-null   int64  \n",
      "dtypes: float64(11), int64(1)\n",
      "memory usage: 149.8 KB\n"
     ]
    }
   ],
   "source": [
    "wine.info()"
   ]
  },
  {
   "cell_type": "code",
   "execution_count": 5,
   "id": "ff4d8f33",
   "metadata": {},
   "outputs": [
    {
     "data": {
      "text/plain": [
       "fixed acidity           0\n",
       "volatile acidity        0\n",
       "citric acid             0\n",
       "residual sugar          0\n",
       "chlorides               0\n",
       "free sulfur dioxide     0\n",
       "total sulfur dioxide    0\n",
       "density                 0\n",
       "pH                      0\n",
       "sulphates               0\n",
       "alcohol                 0\n",
       "quality                 0\n",
       "dtype: int64"
      ]
     },
     "execution_count": 5,
     "metadata": {},
     "output_type": "execute_result"
    }
   ],
   "source": [
    "wine.isnull().sum()"
   ]
  },
  {
   "cell_type": "code",
   "execution_count": 29,
   "id": "1f3f2424",
   "metadata": {},
   "outputs": [
    {
     "data": {
      "text/plain": [
       "[NaN]\n",
       "Categories (0, object): []"
      ]
     },
     "execution_count": 29,
     "metadata": {},
     "output_type": "execute_result"
    }
   ],
   "source": [
    "# Preprocessing Data\n",
    "bins = (2, 6.5, 8)\n",
    "group_names = ['bad','good']\n",
    "wine['quality'] = pd.cut(wine['quality'], bins=bins, labels=group_names)\n",
    "wine['quality'].unique()"
   ]
  },
  {
   "cell_type": "markdown",
   "id": "3732b219",
   "metadata": {},
   "source": [
    "## Feature Selection"
   ]
  },
  {
   "cell_type": "code",
   "execution_count": 7,
   "id": "25dbb448",
   "metadata": {},
   "outputs": [],
   "source": [
    "label_quality = LabelEncoder()"
   ]
  },
  {
   "cell_type": "code",
   "execution_count": 8,
   "id": "630abf7a",
   "metadata": {},
   "outputs": [],
   "source": [
    "wine['quality'] = label_quality.fit_transform(wine['quality'])"
   ]
  },
  {
   "cell_type": "code",
   "execution_count": 9,
   "id": "aeefb837",
   "metadata": {},
   "outputs": [
    {
     "data": {
      "text/html": [
       "<div>\n",
       "<style scoped>\n",
       "    .dataframe tbody tr th:only-of-type {\n",
       "        vertical-align: middle;\n",
       "    }\n",
       "\n",
       "    .dataframe tbody tr th {\n",
       "        vertical-align: top;\n",
       "    }\n",
       "\n",
       "    .dataframe thead th {\n",
       "        text-align: right;\n",
       "    }\n",
       "</style>\n",
       "<table border=\"1\" class=\"dataframe\">\n",
       "  <thead>\n",
       "    <tr style=\"text-align: right;\">\n",
       "      <th></th>\n",
       "      <th>fixed acidity</th>\n",
       "      <th>volatile acidity</th>\n",
       "      <th>citric acid</th>\n",
       "      <th>residual sugar</th>\n",
       "      <th>chlorides</th>\n",
       "      <th>free sulfur dioxide</th>\n",
       "      <th>total sulfur dioxide</th>\n",
       "      <th>density</th>\n",
       "      <th>pH</th>\n",
       "      <th>sulphates</th>\n",
       "      <th>alcohol</th>\n",
       "      <th>quality</th>\n",
       "    </tr>\n",
       "  </thead>\n",
       "  <tbody>\n",
       "    <tr>\n",
       "      <th>0</th>\n",
       "      <td>7.4</td>\n",
       "      <td>0.70</td>\n",
       "      <td>0.00</td>\n",
       "      <td>1.9</td>\n",
       "      <td>0.076</td>\n",
       "      <td>11.0</td>\n",
       "      <td>34.0</td>\n",
       "      <td>0.9978</td>\n",
       "      <td>3.51</td>\n",
       "      <td>0.56</td>\n",
       "      <td>9.4</td>\n",
       "      <td>0</td>\n",
       "    </tr>\n",
       "    <tr>\n",
       "      <th>1</th>\n",
       "      <td>7.8</td>\n",
       "      <td>0.88</td>\n",
       "      <td>0.00</td>\n",
       "      <td>2.6</td>\n",
       "      <td>0.098</td>\n",
       "      <td>25.0</td>\n",
       "      <td>67.0</td>\n",
       "      <td>0.9968</td>\n",
       "      <td>3.20</td>\n",
       "      <td>0.68</td>\n",
       "      <td>9.8</td>\n",
       "      <td>0</td>\n",
       "    </tr>\n",
       "    <tr>\n",
       "      <th>2</th>\n",
       "      <td>7.8</td>\n",
       "      <td>0.76</td>\n",
       "      <td>0.04</td>\n",
       "      <td>2.3</td>\n",
       "      <td>0.092</td>\n",
       "      <td>15.0</td>\n",
       "      <td>54.0</td>\n",
       "      <td>0.9970</td>\n",
       "      <td>3.26</td>\n",
       "      <td>0.65</td>\n",
       "      <td>9.8</td>\n",
       "      <td>0</td>\n",
       "    </tr>\n",
       "    <tr>\n",
       "      <th>3</th>\n",
       "      <td>11.2</td>\n",
       "      <td>0.28</td>\n",
       "      <td>0.56</td>\n",
       "      <td>1.9</td>\n",
       "      <td>0.075</td>\n",
       "      <td>17.0</td>\n",
       "      <td>60.0</td>\n",
       "      <td>0.9980</td>\n",
       "      <td>3.16</td>\n",
       "      <td>0.58</td>\n",
       "      <td>9.8</td>\n",
       "      <td>0</td>\n",
       "    </tr>\n",
       "    <tr>\n",
       "      <th>4</th>\n",
       "      <td>7.4</td>\n",
       "      <td>0.70</td>\n",
       "      <td>0.00</td>\n",
       "      <td>1.9</td>\n",
       "      <td>0.076</td>\n",
       "      <td>11.0</td>\n",
       "      <td>34.0</td>\n",
       "      <td>0.9978</td>\n",
       "      <td>3.51</td>\n",
       "      <td>0.56</td>\n",
       "      <td>9.4</td>\n",
       "      <td>0</td>\n",
       "    </tr>\n",
       "    <tr>\n",
       "      <th>5</th>\n",
       "      <td>7.4</td>\n",
       "      <td>0.66</td>\n",
       "      <td>0.00</td>\n",
       "      <td>1.8</td>\n",
       "      <td>0.075</td>\n",
       "      <td>13.0</td>\n",
       "      <td>40.0</td>\n",
       "      <td>0.9978</td>\n",
       "      <td>3.51</td>\n",
       "      <td>0.56</td>\n",
       "      <td>9.4</td>\n",
       "      <td>0</td>\n",
       "    </tr>\n",
       "    <tr>\n",
       "      <th>6</th>\n",
       "      <td>7.9</td>\n",
       "      <td>0.60</td>\n",
       "      <td>0.06</td>\n",
       "      <td>1.6</td>\n",
       "      <td>0.069</td>\n",
       "      <td>15.0</td>\n",
       "      <td>59.0</td>\n",
       "      <td>0.9964</td>\n",
       "      <td>3.30</td>\n",
       "      <td>0.46</td>\n",
       "      <td>9.4</td>\n",
       "      <td>0</td>\n",
       "    </tr>\n",
       "    <tr>\n",
       "      <th>7</th>\n",
       "      <td>7.3</td>\n",
       "      <td>0.65</td>\n",
       "      <td>0.00</td>\n",
       "      <td>1.2</td>\n",
       "      <td>0.065</td>\n",
       "      <td>15.0</td>\n",
       "      <td>21.0</td>\n",
       "      <td>0.9946</td>\n",
       "      <td>3.39</td>\n",
       "      <td>0.47</td>\n",
       "      <td>10.0</td>\n",
       "      <td>1</td>\n",
       "    </tr>\n",
       "    <tr>\n",
       "      <th>8</th>\n",
       "      <td>7.8</td>\n",
       "      <td>0.58</td>\n",
       "      <td>0.02</td>\n",
       "      <td>2.0</td>\n",
       "      <td>0.073</td>\n",
       "      <td>9.0</td>\n",
       "      <td>18.0</td>\n",
       "      <td>0.9968</td>\n",
       "      <td>3.36</td>\n",
       "      <td>0.57</td>\n",
       "      <td>9.5</td>\n",
       "      <td>1</td>\n",
       "    </tr>\n",
       "    <tr>\n",
       "      <th>9</th>\n",
       "      <td>7.5</td>\n",
       "      <td>0.50</td>\n",
       "      <td>0.36</td>\n",
       "      <td>6.1</td>\n",
       "      <td>0.071</td>\n",
       "      <td>17.0</td>\n",
       "      <td>102.0</td>\n",
       "      <td>0.9978</td>\n",
       "      <td>3.35</td>\n",
       "      <td>0.80</td>\n",
       "      <td>10.5</td>\n",
       "      <td>0</td>\n",
       "    </tr>\n",
       "  </tbody>\n",
       "</table>\n",
       "</div>"
      ],
      "text/plain": [
       "   fixed acidity  volatile acidity  citric acid  residual sugar  chlorides  \\\n",
       "0            7.4              0.70         0.00             1.9      0.076   \n",
       "1            7.8              0.88         0.00             2.6      0.098   \n",
       "2            7.8              0.76         0.04             2.3      0.092   \n",
       "3           11.2              0.28         0.56             1.9      0.075   \n",
       "4            7.4              0.70         0.00             1.9      0.076   \n",
       "5            7.4              0.66         0.00             1.8      0.075   \n",
       "6            7.9              0.60         0.06             1.6      0.069   \n",
       "7            7.3              0.65         0.00             1.2      0.065   \n",
       "8            7.8              0.58         0.02             2.0      0.073   \n",
       "9            7.5              0.50         0.36             6.1      0.071   \n",
       "\n",
       "   free sulfur dioxide  total sulfur dioxide  density    pH  sulphates  \\\n",
       "0                 11.0                  34.0   0.9978  3.51       0.56   \n",
       "1                 25.0                  67.0   0.9968  3.20       0.68   \n",
       "2                 15.0                  54.0   0.9970  3.26       0.65   \n",
       "3                 17.0                  60.0   0.9980  3.16       0.58   \n",
       "4                 11.0                  34.0   0.9978  3.51       0.56   \n",
       "5                 13.0                  40.0   0.9978  3.51       0.56   \n",
       "6                 15.0                  59.0   0.9964  3.30       0.46   \n",
       "7                 15.0                  21.0   0.9946  3.39       0.47   \n",
       "8                  9.0                  18.0   0.9968  3.36       0.57   \n",
       "9                 17.0                 102.0   0.9978  3.35       0.80   \n",
       "\n",
       "   alcohol  quality  \n",
       "0      9.4        0  \n",
       "1      9.8        0  \n",
       "2      9.8        0  \n",
       "3      9.8        0  \n",
       "4      9.4        0  \n",
       "5      9.4        0  \n",
       "6      9.4        0  \n",
       "7     10.0        1  \n",
       "8      9.5        1  \n",
       "9     10.5        0  "
      ]
     },
     "execution_count": 9,
     "metadata": {},
     "output_type": "execute_result"
    }
   ],
   "source": [
    "wine.head(10)"
   ]
  },
  {
   "cell_type": "code",
   "execution_count": 10,
   "id": "c18bf76e",
   "metadata": {},
   "outputs": [
    {
     "data": {
      "text/plain": [
       "0    1379\n",
       "1     217\n",
       "Name: quality, dtype: int64"
      ]
     },
     "execution_count": 10,
     "metadata": {},
     "output_type": "execute_result"
    }
   ],
   "source": [
    "wine['quality'].value_counts()"
   ]
  },
  {
   "cell_type": "code",
   "execution_count": 11,
   "id": "a69717aa",
   "metadata": {},
   "outputs": [
    {
     "name": "stderr",
     "output_type": "stream",
     "text": [
      "C:\\ProgramData\\Anaconda3\\lib\\site-packages\\seaborn\\_decorators.py:36: FutureWarning: Pass the following variable as a keyword arg: x. From version 0.12, the only valid positional argument will be `data`, and passing other arguments without an explicit keyword will result in an error or misinterpretation.\n",
      "  warnings.warn(\n"
     ]
    },
    {
     "data": {
      "text/plain": [
       "<AxesSubplot:xlabel='quality', ylabel='count'>"
      ]
     },
     "execution_count": 11,
     "metadata": {},
     "output_type": "execute_result"
    },
    {
     "data": {
      "image/png": "[encoded data removed]",
      "text/plain": [
       "<Figure size 432x288 with 1 Axes>"
      ]
     },
     "metadata": {
      "needs_background": "light"
     },
     "output_type": "display_data"
    }
   ],
   "source": [
    "sns.countplot(wine['quality'])"
   ]
  },
  {
   "cell_type": "code",
   "execution_count": 12,
   "id": "10f80514",
   "metadata": {},
   "outputs": [],
   "source": [
    "# Now seperate the dataset as response variable and feature variables\n",
    "X= wine.drop('quality', axis=1)\n",
    "y= wine['quality']"
   ]
  },
  {
   "cell_type": "markdown",
   "id": "b7295912",
   "metadata": {},
   "source": [
    "## Splitting the Dataset"
   ]
  },
  {
   "cell_type": "code",
   "execution_count": 13,
   "id": "365a3a1d",
   "metadata": {},
   "outputs": [],
   "source": [
    "#Train and Test splitting of data\n",
    "X_train, X_test, y_train, y_test = train_test_split(X,y, test_size=0.2, random_state = 42)"
   ]
  },
  {
   "cell_type": "code",
   "execution_count": 14,
   "id": "732b93af",
   "metadata": {},
   "outputs": [],
   "source": [
    "# Applying Standard scaling to get optimized result\n",
    "sc=StandardScaler()\n",
    "X_train = sc.fit_transform(X_train)\n",
    "X_test = sc.transform(X_test)"
   ]
  },
  {
   "cell_type": "code",
   "execution_count": 15,
   "id": "277dc71e",
   "metadata": {},
   "outputs": [
    {
     "data": {
      "text/plain": [
       "array([[-1.26843280e+00, -1.15992969e+00, -1.16552574e-01,\n",
       "        -1.71339971e-01, -3.48419349e-01,  6.81596039e-01,\n",
       "         3.32657330e-01, -2.10477887e-01,  7.05309843e-01,\n",
       "         1.86378152e+00,  1.68143759e-01],\n",
       "       [ 1.62417171e-01, -1.10356109e+00,  6.56962079e-01,\n",
       "         4.45196336e-02, -1.02169773e-01,  3.60552501e-03,\n",
       "         6.33146325e-01,  5.78436588e-01, -7.01410306e-02,\n",
       "        -1.07728849e+00, -9.62562098e-01],\n",
       "       [ 1.82220314e+00, -1.18811399e+00,  1.37890909e+00,\n",
       "        -3.15246374e-01, -8.16489746e-02, -1.06180814e+00,\n",
       "        -9.59445345e-01,  1.04437265e+00, -2.13801003e+00,\n",
       "         2.43191925e-01, -1.15101307e+00],\n",
       "       [ 1.87943714e+00, -2.86216417e-01,  6.56962079e-01,\n",
       "        -8.18918784e-01,  6.19966116e-02, -9.64952352e-01,\n",
       "        -5.68809653e-01,  1.65447802e-01, -1.55642187e+00,\n",
       "        -5.69172591e-02, -3.65800677e-01],\n",
       "       [ 3.34119167e-01, -2.58032117e-01,  1.32734145e+00,\n",
       "         1.05186445e+00,  2.67204592e-01, -1.25551972e+00,\n",
       "        -1.10968984e+00, -4.59330105e-01, -6.51729186e-01,\n",
       "        -4.17048281e-01,  1.58152608e+00],\n",
       "       [ 3.34119167e-01, -7.08980903e-01,  2.44420931e-01,\n",
       "         2.20311568e+00, -2.00865805e-02, -5.77529201e-01,\n",
       "         2.11943648e-03,  1.25616178e+00,  4.46826219e-01,\n",
       "         6.63344784e-01,  7.39182708e-02],\n",
       "       [-1.03949681e+00,  8.12971248e-01, -1.40574366e+00,\n",
       "         1.26772406e+00, -6.35710521e-01, -4.80673413e-01,\n",
       "        -8.09200848e-01, -9.78213451e-01,  8.99172562e-01,\n",
       "        -5.97113791e-01,  1.29884962e+00],\n",
       "       [-9.28482583e-03, -1.38540408e+00,  1.06950323e+00,\n",
       "        -3.15246374e-01,  1.03038208e-01, -9.64952352e-01,\n",
       "        -1.04959204e+00, -1.40179169e+00, -3.28624655e-01,\n",
       "        -2.36982770e-01,  1.86420254e+00],\n",
       "       [ 3.91353166e-01,  1.46121013e+00, -1.68120217e-01,\n",
       "        -6.03059179e-01, -2.04773763e-01, -5.77529201e-01,\n",
       "        -7.79151949e-01,  1.01911066e-01, -1.34761937e-01,\n",
       "         6.31264147e-02, -3.97209170e-01],\n",
       "       [-6.38858813e-01,  5.87496855e-01, -1.40574366e+00,\n",
       "        -4.59152776e-01,  1.85121400e-01, -1.90106050e-01,\n",
       "        -2.68320658e-01,  1.19006896e-02,  3.82205313e-01,\n",
       "        -4.77070117e-01, -1.33946405e+00]])"
      ]
     },
     "execution_count": 15,
     "metadata": {},
     "output_type": "execute_result"
    }
   ],
   "source": [
    "X_train[:10]"
   ]
  },
  {
   "cell_type": "markdown",
   "id": "2d56ee3b",
   "metadata": {},
   "source": [
    "## Model Selection and Training"
   ]
  },
  {
   "cell_type": "markdown",
   "id": "e37a40d0",
   "metadata": {},
   "source": [
    "### 1) Random Forest Classifier"
   ]
  },
  {
   "cell_type": "code",
   "execution_count": 30,
   "id": "6dabd413",
   "metadata": {},
   "outputs": [],
   "source": [
    "rfc = RandomForestClassifier(n_estimators=200)\n",
    "rfc.fit(X_train, y_train)\n",
    "pred_rfc=rfc.predict(X_test)"
   ]
  },
  {
   "cell_type": "code",
   "execution_count": 17,
   "id": "928a7a3b",
   "metadata": {},
   "outputs": [
    {
     "data": {
      "text/plain": [
       "array([0, 0, 0, 0, 0, 0, 0, 0, 0, 0, 0, 1, 0, 0, 0, 0, 0, 0, 0, 0])"
      ]
     },
     "execution_count": 17,
     "metadata": {},
     "output_type": "execute_result"
    }
   ],
   "source": [
    "pred_rfc[:20]"
   ]
  },
  {
   "cell_type": "code",
   "execution_count": 18,
   "id": "43832e45",
   "metadata": {},
   "outputs": [
    {
     "data": {
      "text/plain": [
       "array([[ 0.73475716, -0.6526123 ,  0.50225915, -0.17133997,  0.06199661,\n",
       "        -0.5775292 , -0.71905415,  0.5996155 , -0.45786647, -0.59711379,\n",
       "         0.07391827],\n",
       "       [-1.03949681,  0.30565386, -1.40574366, -0.24329317,  0.1646006 ,\n",
       "        -1.25551972, -1.01954314, -0.61287722,  1.99772797, -0.23698277,\n",
       "         1.01617315],\n",
       "       [ 0.16241717, -0.03255772,  0.55382679, -0.74696558,  0.1646006 ,\n",
       "        -1.06180814, -0.86929865, -0.03575186, -0.71635009, -0.83720114,\n",
       "        -0.9625621 ],\n",
       "       [ 2.39454313, -0.37076931,  1.84301788, -0.38719957, -0.34841935,\n",
       "        -0.96495235, -0.95944535,  1.09731993, -2.07338912,  1.26356315,\n",
       "        -0.20875819],\n",
       "       [-0.86779481,  1.60213162, -1.14790544, -0.38719957, -0.36894015,\n",
       "        -0.96495235, -0.98949424, -0.58640358,  1.286898  ,  0.00310458,\n",
       "         0.35659474],\n",
       "       [-0.00928483,  0.47475966,  0.14128564, -0.31524637, -0.08164897,\n",
       "        -0.48067341,  0.09226613,  0.25016345,  0.57606803, -0.29700461,\n",
       "        -0.20875819],\n",
       "       [-0.00928483,  0.41839106, -0.11655257, -0.24329317,  0.61605816,\n",
       "        -0.67438499, -0.26832066, -0.30048826, -1.03945462, -0.7771793 ,\n",
       "        -0.58566015],\n",
       "       [ 1.47879914,  0.02381087,  1.12107087,  1.48358366,  0.61605816,\n",
       "        -0.5775292 , -0.89934755,  1.83858186, -1.55642187, -0.59711379,\n",
       "         1.20462413],\n",
       "       [-0.75332681,  0.08017947, -1.40574366, -0.31524637, -0.18425296,\n",
       "         2.23128864,  0.24251063, -0.59699303,  0.51144712,  1.08349764,\n",
       "         0.92194766],\n",
       "       [-0.12375282,  1.43302583, -0.21968786,  0.04451963, -0.59466893,\n",
       "        -1.06180814, -0.95944535,  0.14426889,  0.38220531, -0.59711379,\n",
       "         0.82772218],\n",
       "       [-1.1539648 , -0.9344553 , -0.42595843,  0.47623884, -0.26633616,\n",
       "        -0.09325026, -0.23827176, -0.59699303,  1.61000253, -0.83720114,\n",
       "         2.14687901],\n",
       "       [ 0.84922516,  0.75660265,  0.60539444,  0.47623884, -0.10216977,\n",
       "         0.48788446,  0.36270623,  1.15026722,  0.38220531,  0.30321376,\n",
       "         1.01617315],\n",
       "       [ 0.39135317, -0.42713791,  1.12107087,  0.04451963, -0.08164897,\n",
       "         0.48788446,  0.84348862,  1.04437265,  0.2529635 , -0.53709195,\n",
       "        -0.67988563],\n",
       "       [-0.75332681,  0.19291667, -0.7353643 , -0.67501238, -0.22529456,\n",
       "         0.87530761, -0.14812506, -0.2316568 ,  0.18834259, -0.41704828,\n",
       "        -1.15101307],\n",
       "       [-0.40992282,  1.20755143, -1.40574366, -0.45915278,  0.24668379,\n",
       "        -0.96495235, -1.04959204, -0.80348743,  0.31758441, -0.41704828,\n",
       "         0.54504571],\n",
       "       [ 0.10518317, -0.37076931,  0.19285329, -0.20731657, -0.20477376,\n",
       "         1.55329813,  0.33265733,  0.67374169,  0.12372169, -0.71715747,\n",
       "        -0.58566015],\n",
       "       [-0.92502881,  0.84115555, -1.04477016, -0.09938677,  0.02095502,\n",
       "         0.10046131,  1.05383092, -0.49109847,  0.2529635 , -0.71715747,\n",
       "        -0.30298368],\n",
       "       [-0.35268882,  1.40484153,  0.76009737, -0.45915278,  0.08251741,\n",
       "        -0.77124078,  1.17402651, -0.43815119, -0.52248737, -0.41704828,\n",
       "        -0.86833661],\n",
       "       [-0.63885881,  0.75660265, -1.25104073, -0.17133997, -0.20477376,\n",
       "         0.00360553,  1.17402651,  0.3719422 ,  1.41613981, -0.53709195,\n",
       "        -0.67988563],\n",
       "       [ 0.21965117,  0.84115555, -0.89006723, -0.67501238,  0.04147581,\n",
       "        -1.15866393, -1.07964094,  0.38253165, -0.00552012, -0.05691726,\n",
       "        -0.82122387]])"
      ]
     },
     "execution_count": 18,
     "metadata": {},
     "output_type": "execute_result"
    }
   ],
   "source": [
    "X_test[:20]"
   ]
  },
  {
   "cell_type": "markdown",
   "id": "a43e4ead",
   "metadata": {},
   "source": [
    "#### Model Evaluation"
   ]
  },
  {
   "cell_type": "code",
   "execution_count": 19,
   "id": "fce27630",
   "metadata": {},
   "outputs": [
    {
     "name": "stdout",
     "output_type": "stream",
     "text": [
      "              precision    recall  f1-score   support\n",
      "\n",
      "           0       0.92      0.98      0.95       277\n",
      "           1       0.80      0.47      0.59        43\n",
      "\n",
      "    accuracy                           0.91       320\n",
      "   macro avg       0.86      0.72      0.77       320\n",
      "weighted avg       0.91      0.91      0.90       320\n",
      "\n",
      "[[272   5]\n",
      " [ 23  20]]\n"
     ]
    }
   ],
   "source": [
    "#let's see how our model performed\n",
    "print(classification_report(y_test, pred_rfc))\n",
    "print(confusion_matrix(y_test, pred_rfc))"
   ]
  },
  {
   "cell_type": "markdown",
   "id": "b1d5efd6",
   "metadata": {},
   "source": [
    "266 correct and 7 wrong for good quality ofwine\n",
    "21 correct and 22 wrong for bad quality of wine"
   ]
  },
  {
   "cell_type": "markdown",
   "id": "b0346e89",
   "metadata": {},
   "source": [
    "### 2)SVM Classifier"
   ]
  },
  {
   "cell_type": "markdown",
   "id": "d0aea5b0",
   "metadata": {},
   "source": [
    "SVM Stands for Support Vector Model. \n",
    "SVM works well with a few variable"
   ]
  },
  {
   "cell_type": "code",
   "execution_count": 20,
   "id": "9b6a59ca",
   "metadata": {},
   "outputs": [],
   "source": [
    "clf=svm.SVC()\n",
    "clf.fit(X_train,y_train)\n",
    "pred_clf=clf.predict(X_test)"
   ]
  },
  {
   "cell_type": "markdown",
   "id": "c1496786",
   "metadata": {},
   "source": [
    "#### Model Evaluation\n"
   ]
  },
  {
   "cell_type": "code",
   "execution_count": 21,
   "id": "927523b7",
   "metadata": {},
   "outputs": [
    {
     "name": "stdout",
     "output_type": "stream",
     "text": [
      "              precision    recall  f1-score   support\n",
      "\n",
      "           0       0.89      0.98      0.94       277\n",
      "           1       0.69      0.26      0.37        43\n",
      "\n",
      "    accuracy                           0.88       320\n",
      "   macro avg       0.79      0.62      0.65       320\n",
      "weighted avg       0.87      0.88      0.86       320\n",
      "\n",
      "[[272   5]\n",
      " [ 32  11]]\n"
     ]
    }
   ],
   "source": [
    "#let's see how our model performed\n",
    "print(classification_report(y_test, pred_clf))\n",
    "print(confusion_matrix(y_test, pred_clf))"
   ]
  },
  {
   "cell_type": "markdown",
   "id": "d70fa187",
   "metadata": {},
   "source": [
    "### 3)Neural Network"
   ]
  },
  {
   "cell_type": "markdown",
   "id": "ab5f3f6d",
   "metadata": {},
   "source": [
    "This works well with large datasets. Usually for text analysis, and big data."
   ]
  },
  {
   "cell_type": "code",
   "execution_count": 22,
   "id": "c0af2241",
   "metadata": {},
   "outputs": [
    {
     "name": "stderr",
     "output_type": "stream",
     "text": [
      "C:\\ProgramData\\Anaconda3\\lib\\site-packages\\sklearn\\neural_network\\_multilayer_perceptron.py:614: ConvergenceWarning: Stochastic Optimizer: Maximum iterations (500) reached and the optimization hasn't converged yet.\n",
      "  warnings.warn(\n"
     ]
    }
   ],
   "source": [
    "mlpc=MLPClassifier(hidden_layer_sizes=(11,11,11), max_iter=500)\n",
    "mlpc.fit(X_train,y_train)\n",
    "pred_mlpc=mlpc.predict(X_test)"
   ]
  },
  {
   "cell_type": "markdown",
   "id": "2bba3631",
   "metadata": {},
   "source": [
    "#### Model Evaluation\n"
   ]
  },
  {
   "cell_type": "code",
   "execution_count": 23,
   "id": "3f7b49de",
   "metadata": {},
   "outputs": [
    {
     "name": "stdout",
     "output_type": "stream",
     "text": [
      "              precision    recall  f1-score   support\n",
      "\n",
      "           0       0.92      0.96      0.94       277\n",
      "           1       0.68      0.49      0.57        43\n",
      "\n",
      "    accuracy                           0.90       320\n",
      "   macro avg       0.80      0.73      0.76       320\n",
      "weighted avg       0.89      0.90      0.89       320\n",
      "\n",
      "[[267  10]\n",
      " [ 22  21]]\n"
     ]
    }
   ],
   "source": [
    "#let's see how our model performed\n",
    "print(classification_report(y_test, pred_mlpc))\n",
    "print(confusion_matrix(y_test, pred_mlpc))"
   ]
  },
  {
   "cell_type": "code",
   "execution_count": 25,
   "id": "296dd17f",
   "metadata": {},
   "outputs": [
    {
     "data": {
      "text/plain": [
       "0.9125"
      ]
     },
     "execution_count": 25,
     "metadata": {},
     "output_type": "execute_result"
    }
   ],
   "source": [
    "from sklearn.metrics import accuracy_score\n",
    "cm= accuracy_score(y_test, pred_rfc)\n",
    "cm"
   ]
  },
  {
   "cell_type": "markdown",
   "id": "9bd59fe9",
   "metadata": {},
   "source": [
    "Precision is 91.25%"
   ]
  },
  {
   "cell_type": "code",
   "execution_count": 26,
   "id": "19a298ae",
   "metadata": {},
   "outputs": [
    {
     "data": {
      "text/html": [
       "<div>\n",
       "<style scoped>\n",
       "    .dataframe tbody tr th:only-of-type {\n",
       "        vertical-align: middle;\n",
       "    }\n",
       "\n",
       "    .dataframe tbody tr th {\n",
       "        vertical-align: top;\n",
       "    }\n",
       "\n",
       "    .dataframe thead th {\n",
       "        text-align: right;\n",
       "    }\n",
       "</style>\n",
       "<table border=\"1\" class=\"dataframe\">\n",
       "  <thead>\n",
       "    <tr style=\"text-align: right;\">\n",
       "      <th></th>\n",
       "      <th>fixed acidity</th>\n",
       "      <th>volatile acidity</th>\n",
       "      <th>citric acid</th>\n",
       "      <th>residual sugar</th>\n",
       "      <th>chlorides</th>\n",
       "      <th>free sulfur dioxide</th>\n",
       "      <th>total sulfur dioxide</th>\n",
       "      <th>density</th>\n",
       "      <th>pH</th>\n",
       "      <th>sulphates</th>\n",
       "      <th>alcohol</th>\n",
       "      <th>quality</th>\n",
       "    </tr>\n",
       "  </thead>\n",
       "  <tbody>\n",
       "    <tr>\n",
       "      <th>0</th>\n",
       "      <td>7.4</td>\n",
       "      <td>0.70</td>\n",
       "      <td>0.00</td>\n",
       "      <td>1.9</td>\n",
       "      <td>0.076</td>\n",
       "      <td>11.0</td>\n",
       "      <td>34.0</td>\n",
       "      <td>0.9978</td>\n",
       "      <td>3.51</td>\n",
       "      <td>0.56</td>\n",
       "      <td>9.4</td>\n",
       "      <td>0</td>\n",
       "    </tr>\n",
       "    <tr>\n",
       "      <th>1</th>\n",
       "      <td>7.8</td>\n",
       "      <td>0.88</td>\n",
       "      <td>0.00</td>\n",
       "      <td>2.6</td>\n",
       "      <td>0.098</td>\n",
       "      <td>25.0</td>\n",
       "      <td>67.0</td>\n",
       "      <td>0.9968</td>\n",
       "      <td>3.20</td>\n",
       "      <td>0.68</td>\n",
       "      <td>9.8</td>\n",
       "      <td>0</td>\n",
       "    </tr>\n",
       "    <tr>\n",
       "      <th>2</th>\n",
       "      <td>7.8</td>\n",
       "      <td>0.76</td>\n",
       "      <td>0.04</td>\n",
       "      <td>2.3</td>\n",
       "      <td>0.092</td>\n",
       "      <td>15.0</td>\n",
       "      <td>54.0</td>\n",
       "      <td>0.9970</td>\n",
       "      <td>3.26</td>\n",
       "      <td>0.65</td>\n",
       "      <td>9.8</td>\n",
       "      <td>0</td>\n",
       "    </tr>\n",
       "    <tr>\n",
       "      <th>3</th>\n",
       "      <td>11.2</td>\n",
       "      <td>0.28</td>\n",
       "      <td>0.56</td>\n",
       "      <td>1.9</td>\n",
       "      <td>0.075</td>\n",
       "      <td>17.0</td>\n",
       "      <td>60.0</td>\n",
       "      <td>0.9980</td>\n",
       "      <td>3.16</td>\n",
       "      <td>0.58</td>\n",
       "      <td>9.8</td>\n",
       "      <td>0</td>\n",
       "    </tr>\n",
       "    <tr>\n",
       "      <th>4</th>\n",
       "      <td>7.4</td>\n",
       "      <td>0.70</td>\n",
       "      <td>0.00</td>\n",
       "      <td>1.9</td>\n",
       "      <td>0.076</td>\n",
       "      <td>11.0</td>\n",
       "      <td>34.0</td>\n",
       "      <td>0.9978</td>\n",
       "      <td>3.51</td>\n",
       "      <td>0.56</td>\n",
       "      <td>9.4</td>\n",
       "      <td>0</td>\n",
       "    </tr>\n",
       "    <tr>\n",
       "      <th>5</th>\n",
       "      <td>7.4</td>\n",
       "      <td>0.66</td>\n",
       "      <td>0.00</td>\n",
       "      <td>1.8</td>\n",
       "      <td>0.075</td>\n",
       "      <td>13.0</td>\n",
       "      <td>40.0</td>\n",
       "      <td>0.9978</td>\n",
       "      <td>3.51</td>\n",
       "      <td>0.56</td>\n",
       "      <td>9.4</td>\n",
       "      <td>0</td>\n",
       "    </tr>\n",
       "    <tr>\n",
       "      <th>6</th>\n",
       "      <td>7.9</td>\n",
       "      <td>0.60</td>\n",
       "      <td>0.06</td>\n",
       "      <td>1.6</td>\n",
       "      <td>0.069</td>\n",
       "      <td>15.0</td>\n",
       "      <td>59.0</td>\n",
       "      <td>0.9964</td>\n",
       "      <td>3.30</td>\n",
       "      <td>0.46</td>\n",
       "      <td>9.4</td>\n",
       "      <td>0</td>\n",
       "    </tr>\n",
       "    <tr>\n",
       "      <th>7</th>\n",
       "      <td>7.3</td>\n",
       "      <td>0.65</td>\n",
       "      <td>0.00</td>\n",
       "      <td>1.2</td>\n",
       "      <td>0.065</td>\n",
       "      <td>15.0</td>\n",
       "      <td>21.0</td>\n",
       "      <td>0.9946</td>\n",
       "      <td>3.39</td>\n",
       "      <td>0.47</td>\n",
       "      <td>10.0</td>\n",
       "      <td>1</td>\n",
       "    </tr>\n",
       "    <tr>\n",
       "      <th>8</th>\n",
       "      <td>7.8</td>\n",
       "      <td>0.58</td>\n",
       "      <td>0.02</td>\n",
       "      <td>2.0</td>\n",
       "      <td>0.073</td>\n",
       "      <td>9.0</td>\n",
       "      <td>18.0</td>\n",
       "      <td>0.9968</td>\n",
       "      <td>3.36</td>\n",
       "      <td>0.57</td>\n",
       "      <td>9.5</td>\n",
       "      <td>1</td>\n",
       "    </tr>\n",
       "    <tr>\n",
       "      <th>9</th>\n",
       "      <td>7.5</td>\n",
       "      <td>0.50</td>\n",
       "      <td>0.36</td>\n",
       "      <td>6.1</td>\n",
       "      <td>0.071</td>\n",
       "      <td>17.0</td>\n",
       "      <td>102.0</td>\n",
       "      <td>0.9978</td>\n",
       "      <td>3.35</td>\n",
       "      <td>0.80</td>\n",
       "      <td>10.5</td>\n",
       "      <td>0</td>\n",
       "    </tr>\n",
       "  </tbody>\n",
       "</table>\n",
       "</div>"
      ],
      "text/plain": [
       "   fixed acidity  volatile acidity  citric acid  residual sugar  chlorides  \\\n",
       "0            7.4              0.70         0.00             1.9      0.076   \n",
       "1            7.8              0.88         0.00             2.6      0.098   \n",
       "2            7.8              0.76         0.04             2.3      0.092   \n",
       "3           11.2              0.28         0.56             1.9      0.075   \n",
       "4            7.4              0.70         0.00             1.9      0.076   \n",
       "5            7.4              0.66         0.00             1.8      0.075   \n",
       "6            7.9              0.60         0.06             1.6      0.069   \n",
       "7            7.3              0.65         0.00             1.2      0.065   \n",
       "8            7.8              0.58         0.02             2.0      0.073   \n",
       "9            7.5              0.50         0.36             6.1      0.071   \n",
       "\n",
       "   free sulfur dioxide  total sulfur dioxide  density    pH  sulphates  \\\n",
       "0                 11.0                  34.0   0.9978  3.51       0.56   \n",
       "1                 25.0                  67.0   0.9968  3.20       0.68   \n",
       "2                 15.0                  54.0   0.9970  3.26       0.65   \n",
       "3                 17.0                  60.0   0.9980  3.16       0.58   \n",
       "4                 11.0                  34.0   0.9978  3.51       0.56   \n",
       "5                 13.0                  40.0   0.9978  3.51       0.56   \n",
       "6                 15.0                  59.0   0.9964  3.30       0.46   \n",
       "7                 15.0                  21.0   0.9946  3.39       0.47   \n",
       "8                  9.0                  18.0   0.9968  3.36       0.57   \n",
       "9                 17.0                 102.0   0.9978  3.35       0.80   \n",
       "\n",
       "   alcohol  quality  \n",
       "0      9.4        0  \n",
       "1      9.8        0  \n",
       "2      9.8        0  \n",
       "3      9.8        0  \n",
       "4      9.4        0  \n",
       "5      9.4        0  \n",
       "6      9.4        0  \n",
       "7     10.0        1  \n",
       "8      9.5        1  \n",
       "9     10.5        0  "
      ]
     },
     "execution_count": 26,
     "metadata": {},
     "output_type": "execute_result"
    }
   ],
   "source": [
    "wine.head(10)"
   ]
  },
  {
   "cell_type": "markdown",
   "id": "92ff8a31",
   "metadata": {},
   "source": [
    "## Prediction"
   ]
  },
  {
   "cell_type": "code",
   "execution_count": 28,
   "id": "57d14162",
   "metadata": {},
   "outputs": [
    {
     "data": {
      "text/plain": [
       "array([0])"
      ]
     },
     "execution_count": 28,
     "metadata": {},
     "output_type": "execute_result"
    }
   ],
   "source": [
    "Xnew=[[7.3,0.58,0.00,2.00,0.65,15.00,21.0,0.9946,3.36,0.47,10.0]]\n",
    "Xnew=sc.transform(Xnew)\n",
    "ynew=rfc.predict(Xnew)\n",
    "ynew"
   ]
  },
  {
   "cell_type": "markdown",
   "id": "672020b8",
   "metadata": {},
   "source": [
    "The prediction of Xnew is bad wine"
   ]
  },
  {
   "cell_type": "markdown",
   "id": "54fb251a",
   "metadata": {},
   "source": [
    "## Conclusion"
   ]
  },
  {
   "cell_type": "markdown",
   "id": "5663504a",
   "metadata": {},
   "source": [
    "By using Python to create a wine quality model, we can use machine learning to forecast wine quality based on various input characteristics. We can build a trustworthy and accurate model using a systematic procedure that includes dataset preparation, preprocessing, feature selection/engineering, model selection and training, evaluation, tweaking, and prediction.\n",
    "With its extensive ecosystem of libraries, including pandas, sci-kit-learn, and matplotlib/seaborn, Python offers the essential features and tools for successfully implementing each stage of the modeling process. These libraries simplify creating and honing the wine quality model by enabling data manipulation, feature engineering, model training, assessment, and visualization.\n",
    "It is important to stress that the model's performance strongly depends on the caliber and representativeness of the training dataset. To make accurate predictions, one needs a varied and well-curated dataset that includes a variety of wine samples with credible quality ratings.\n",
    "In addition, wine quality is a relative term that varies across people and civilizations. Since the model's predictions are based on the patterns and connections discovered in the training data, it's vital to remember that they could not exactly match each person's taste preferences or subjective evaluations of quality.\n",
    "A Python wine quality model can help wine enthusiasts, experts, and businesses assess and comprehend the potential quality of wines based on their characteristics by helping them understand these limitations and work with the correct data and methodologies."
   ]
  }
 ],
 "metadata": {
  "kernelspec": {
   "display_name": "Python 3",
   "language": "python",
   "name": "python3"
  },
  "language_info": {
   "codemirror_mode": {
    "name": "ipython",
    "version": 3
   },
   "file_extension": ".py",
   "mimetype": "text/x-python",
   "name": "python",
   "nbconvert_exporter": "python",
   "pygments_lexer": "ipython3",
   "version": "3.8.8"
  }
 },
 "nbformat": 4,
 "nbformat_minor": 5
}
