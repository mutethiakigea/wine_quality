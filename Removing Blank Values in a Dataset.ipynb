{
 "cells": [
  {
   "cell_type": "code",
   "execution_count": 1,
   "id": "545ef4cf",
   "metadata": {},
   "outputs": [],
   "source": [
    "import numpy as np\n"
   ]
  },
  {
   "cell_type": "code",
   "execution_count": 2,
   "id": "9814c494",
   "metadata": {},
   "outputs": [],
   "source": [
    "# File paths\n",
    "input_file_path = r'C:\\Users\\Administrator\\Downloads\\winequality-red.csv'\n",
    "output_file_path = r'C:\\Users\\Administrator\\Downloads\\winequality-red_processed.csv'"
   ]
  },
  {
   "cell_type": "code",
   "execution_count": 3,
   "id": "5374761f",
   "metadata": {},
   "outputs": [],
   "source": [
    "# Load the CSV file using numpy's genfromtxt function\n",
    "data = np.genfromtxt(input_file_path, delimiter=',', skip_header=1, filling_values=np.nan)"
   ]
  },
  {
   "cell_type": "code",
   "execution_count": 4,
   "id": "fb3beb81",
   "metadata": {},
   "outputs": [],
   "source": [
    "# Replace all blank values in the quality column with NAN\n",
    "data[:, -1][np.isnan(data[:, -1])] = np.nan"
   ]
  },
  {
   "cell_type": "code",
   "execution_count": 5,
   "id": "71fcc428",
   "metadata": {},
   "outputs": [],
   "source": [
    "# Save the processed data into a new CSV file\n",
    "np.savetxt(output_file_path, data, delimiter=',', header='fixed acidity,volatile acidity,citric acid,residual sugar,chlorides,free sulfur dioxide,total sulfur dioxide,density,pH,sulphates,alcohol,quality', comments='')\n"
   ]
  },
  {
   "cell_type": "code",
   "execution_count": 6,
   "id": "f9b5ea94",
   "metadata": {},
   "outputs": [
    {
     "name": "stdout",
     "output_type": "stream",
     "text": [
      "Processed data saved to: C:\\Users\\Administrator\\Downloads\\winequality-red_processed.csv\n"
     ]
    }
   ],
   "source": [
    "print(f\"Processed data saved to: {output_file_path}\")"
   ]
  }
 ],
 "metadata": {
  "kernelspec": {
   "display_name": "Python 3",
   "language": "python",
   "name": "python3"
  },
  "language_info": {
   "codemirror_mode": {
    "name": "ipython",
    "version": 3
   },
   "file_extension": ".py",
   "mimetype": "text/x-python",
   "name": "python",
   "nbconvert_exporter": "python",
   "pygments_lexer": "ipython3",
   "version": "3.8.8"
  }
 },
 "nbformat": 4,
 "nbformat_minor": 5
}
